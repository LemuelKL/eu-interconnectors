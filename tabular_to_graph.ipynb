{
 "cells": [
  {
   "cell_type": "markdown",
   "metadata": {},
   "source": [
    "This notebook converts tabular data to graph data for pytorch geometric to ingest.\n",
    "\n",
    "The final graph is a static homogeneous directed graph with temporal signals.\n"
   ]
  },
  {
   "cell_type": "code",
   "execution_count": 171,
   "metadata": {},
   "outputs": [],
   "source": [
    "import math\n",
    "import torch\n",
    "from torch import nn, Tensor\n",
    "import torch.nn.functional as F\n",
    "from torch_geometric.nn import GATv2Conv\n",
    "from torch_geometric.data import Data\n",
    "from torch.nn import BatchNorm1d\n",
    "\n",
    "import pandas as pd\n",
    "import numpy as np\n",
    "\n",
    "from tqdm import tqdm"
   ]
  },
  {
   "cell_type": "code",
   "execution_count": 172,
   "metadata": {},
   "outputs": [],
   "source": [
    "flow_df = pd.read_csv(\"data/flow/_combined.csv\")\n",
    "dap_df = pd.read_csv(\"data/dap/_combined.csv\")\n",
    "flow_df.set_index(\"datetime\", inplace=True)\n",
    "dap_df.set_index(\"datetime\", inplace=True)\n",
    "\n",
    "datetime_intersect = flow_df.index.intersection(dap_df.index)\n",
    "flow_df = flow_df.loc[datetime_intersect]\n",
    "dap_df = dap_df.loc[datetime_intersect]\n",
    "\n",
    "# Remove columns that contains \"UK\" or \"IE\"\n",
    "flow_df = flow_df.loc[\n",
    "    :, ~flow_df.columns.str.contains(\"UK\") & ~flow_df.columns.str.contains(\"IE\")\n",
    "]\n",
    "dap_df = dap_df.loc[\n",
    "    :, ~dap_df.columns.str.contains(\"UK\") & ~dap_df.columns.str.contains(\"IE\")\n",
    "]\n",
    "\n",
    "# print(flow_df.isnull().sum())\n",
    "# print(dap_df.isnull().sum())\n",
    "assert not flow_df.isnull().values.any()\n",
    "assert not dap_df.isnull().values.any()\n",
    "dap_df = dap_df.reindex(sorted(dap_df.columns), axis=1)"
   ]
  },
  {
   "cell_type": "code",
   "execution_count": 173,
   "metadata": {},
   "outputs": [
    {
     "name": "stdout",
     "output_type": "stream",
     "text": [
      "                             BE->DE    BE->FR    BE->LU    BE->NL    DE->BE  \\\n",
      "datetime                                                                      \n",
      "2023-04-01 00:00:00+00:00 -0.891149 -0.470883 -0.094801  2.616577 -0.541081   \n",
      "2023-04-01 01:00:00+00:00 -0.944479 -0.470883  0.750963  3.598008  2.448207   \n",
      "2023-04-01 02:00:00+00:00 -0.944479 -0.470883  1.302386  2.919569  1.663773   \n",
      "2023-04-01 03:00:00+00:00 -0.944479 -0.470883  0.654091  1.892031  0.741433   \n",
      "2023-04-01 04:00:00+00:00 -0.944479 -0.470883 -0.780355  0.269487  0.050287   \n",
      "\n",
      "                             DE->DK    DE->AT    DE->CH    DE->CZ    DE->FR  \\\n",
      "datetime                                                                      \n",
      "2023-04-01 00:00:00+00:00 -0.375745  0.765371  0.384475  0.277879 -0.400487   \n",
      "2023-04-01 01:00:00+00:00 -0.375745  0.680750  0.178445  0.445536 -0.400487   \n",
      "2023-04-01 02:00:00+00:00 -0.375745  0.769439  0.375343  0.440351 -0.400487   \n",
      "2023-04-01 03:00:00+00:00 -0.370642  0.873589  0.411142  0.443807 -0.400487   \n",
      "2023-04-01 04:00:00+00:00 -0.244077  1.188477  0.631419  0.868998 -0.400487   \n",
      "\n",
      "                           ...    SE->DE    SE->NO    AT->DE    CH->DE  \\\n",
      "datetime                   ...                                           \n",
      "2023-04-01 00:00:00+00:00  ...  0.808136  2.069002 -1.177564 -0.863783   \n",
      "2023-04-01 01:00:00+00:00  ...  0.808136  2.276423 -0.994428 -0.672859   \n",
      "2023-04-01 02:00:00+00:00  ... -0.361820  2.381398 -0.972452 -0.700854   \n",
      "2023-04-01 03:00:00+00:00  ... -1.444692  2.657116 -0.992963 -0.760762   \n",
      "2023-04-01 04:00:00+00:00  ... -1.527990  2.869596 -1.226645 -0.872182   \n",
      "\n",
      "                             CH->FR    CZ->DE    PL->DE    ES->FR    IT->FR  \\\n",
      "datetime                                                                      \n",
      "2023-04-01 00:00:00+00:00 -0.496624 -0.561975 -0.386668  0.574449 -0.087357   \n",
      "2023-04-01 01:00:00+00:00 -0.496624 -0.657998 -0.386668  0.539312 -0.087357   \n",
      "2023-04-01 02:00:00+00:00 -0.496624 -0.597780 -0.386668  0.535738 -0.087357   \n",
      "2023-04-01 03:00:00+00:00 -0.496624 -0.508267 -0.386668  0.434197 -0.087357   \n",
      "2023-04-01 04:00:00+00:00 -0.496624 -0.550582 -0.386668  0.143570 -0.087357   \n",
      "\n",
      "                             FI->NO  \n",
      "datetime                             \n",
      "2023-04-01 00:00:00+00:00 -0.228901  \n",
      "2023-04-01 01:00:00+00:00 -0.228901  \n",
      "2023-04-01 02:00:00+00:00 -0.228901  \n",
      "2023-04-01 03:00:00+00:00 -0.228901  \n",
      "2023-04-01 04:00:00+00:00 -0.228901  \n",
      "\n",
      "[5 rows x 46 columns]\n",
      "                                 AT        BE        CH        CZ        DE  \\\n",
      "datetime                                                                      \n",
      "2023-04-01 00:00:00+00:00 -1.026846 -0.902024  0.100539 -1.028951 -0.826744   \n",
      "2023-04-01 01:00:00+00:00 -1.377537 -1.141419  0.105500 -1.393943 -1.161339   \n",
      "2023-04-01 02:00:00+00:00 -1.445183 -1.221723  0.065500 -1.462237 -1.223309   \n",
      "2023-04-01 03:00:00+00:00 -1.442385 -1.147245 -0.036206 -1.467043 -1.239359   \n",
      "2023-04-01 04:00:00+00:00 -1.491467 -1.189297  0.009065 -1.500431 -1.260982   \n",
      "\n",
      "                                 DK        ES        FI        FR        IT  \\\n",
      "datetime                                                                      \n",
      "2023-04-01 00:00:00+00:00 -0.868100 -1.069932 -0.162453 -0.918223  0.207948   \n",
      "2023-04-01 01:00:00+00:00 -0.856339 -1.277464 -0.150940 -1.223082 -0.384903   \n",
      "2023-04-01 02:00:00+00:00 -0.863270 -1.361860 -0.157725 -1.305076 -0.559365   \n",
      "2023-04-01 03:00:00+00:00 -0.860330 -1.393128 -0.154847 -1.335455 -0.210442   \n",
      "2023-04-01 04:00:00+00:00 -0.880701 -1.277464 -0.174789 -1.223082  0.364646   \n",
      "\n",
      "                                 LU        NL        NO        PL        SE  \n",
      "datetime                                                                     \n",
      "2023-04-01 00:00:00+00:00 -0.826744 -0.721657  0.991681  0.430200 -0.387022  \n",
      "2023-04-01 01:00:00+00:00 -1.161339 -0.718538  0.995245  0.438853 -0.374770  \n",
      "2023-04-01 02:00:00+00:00 -1.223309 -0.697332  1.021835  0.437700 -0.381990  \n",
      "2023-04-01 03:00:00+00:00 -1.239359 -0.385683  1.043490  0.440296 -0.378927  \n",
      "2023-04-01 04:00:00+00:00 -1.260982 -0.165721  1.083512  0.439142 -0.400150  \n"
     ]
    }
   ],
   "source": [
    "# Normalize\n",
    "# is this good enough?\n",
    "flow_df = (flow_df - flow_df.mean()) / flow_df.std()\n",
    "dap_df = (dap_df - dap_df.mean()) / dap_df.std()\n",
    "\n",
    "print(flow_df.head())\n",
    "print(dap_df.head())"
   ]
  },
  {
   "cell_type": "code",
   "execution_count": 174,
   "metadata": {},
   "outputs": [
    {
     "name": "stdout",
     "output_type": "stream",
     "text": [
      "(2, 45)\n",
      "[['BE' 'BE' 'BE' 'DE' 'DE' 'DE' 'DE' 'DE' 'DE' 'DE']\n",
      " ['FR' 'LU' 'NL' 'BE' 'DK' 'AT' 'CH' 'CZ' 'FR' 'LU']]\n"
     ]
    }
   ],
   "source": [
    "# Static edges of shape (2, n_edges)\n",
    "interconnectors = flow_df.columns[1:]\n",
    "exporters = []\n",
    "importers = []\n",
    "for ic in interconnectors:\n",
    "    exporter, importer = ic.split(\"->\")\n",
    "    exporters.append(exporter)\n",
    "    importers.append(importer)\n",
    "\n",
    "exporters = np.array(exporters)\n",
    "importers = np.array(importers)\n",
    "\n",
    "edges = np.vstack([exporters, importers])\n",
    "print(edges.shape)\n",
    "print(edges[:, :10])\n",
    "n_edges = edges.shape[1]"
   ]
  },
  {
   "cell_type": "code",
   "execution_count": 175,
   "metadata": {},
   "outputs": [
    {
     "name": "stdout",
     "output_type": "stream",
     "text": [
      "(5136, 2, 45)\n"
     ]
    }
   ],
   "source": [
    "# Map edge names to indices\n",
    "edge_names = np.unique(edges)\n",
    "edge_map = {edge: i for i, edge in enumerate(edge_names)}\n",
    "edge_indices = np.array([edge_map[edge] for edge in edges.flatten()]).reshape(\n",
    "    edges.shape\n",
    ")\n",
    "# Repeat edge indices for each datetime\n",
    "edge_indices = np.repeat(\n",
    "    edge_indices[np.newaxis, :, :],\n",
    "    len(datetime_intersect),\n",
    "    axis=0,\n",
    ")\n",
    "print(edge_indices.shape)"
   ]
  },
  {
   "cell_type": "code",
   "execution_count": 176,
   "metadata": {},
   "outputs": [
    {
     "name": "stdout",
     "output_type": "stream",
     "text": [
      "(5136, 45, 1)\n"
     ]
    }
   ],
   "source": [
    "# Edge labels (flow) of shape (n_datetimes, n_edges, 1)\n",
    "edge_labels = np.array(flow_df[interconnectors])\n",
    "edge_labels = np.reshape(edge_labels, (edge_labels.shape[0], edge_labels.shape[1], 1))\n",
    "print(edge_labels.shape)"
   ]
  },
  {
   "cell_type": "code",
   "execution_count": 177,
   "metadata": {},
   "outputs": [
    {
     "name": "stdout",
     "output_type": "stream",
     "text": [
      "(5136, 45, 1)\n"
     ]
    }
   ],
   "source": [
    "# Edge attributes (capacity, etc.) of shape (n_datetimes, n_edges, n_attributes)\n",
    "# copy the edge labels to the edge attributes\n",
    "edge_attributes = np.copy(edge_labels)\n",
    "# hard code the edge attributes to be ones for now\n",
    "edge_attributes = np.ones(edge_labels.shape)\n",
    "print(edge_attributes.shape)\n",
    "# print(edge_attributes[:, :, 0])"
   ]
  },
  {
   "cell_type": "code",
   "execution_count": 178,
   "metadata": {},
   "outputs": [
    {
     "name": "stdout",
     "output_type": "stream",
     "text": [
      "(5136, 15, 1)\n"
     ]
    }
   ],
   "source": [
    "# Node features (dap)\n",
    "node_features = np.array(node_features)\n",
    "node_features = np.reshape(\n",
    "    node_features, (node_features.shape[0], node_features.shape[1], 1)\n",
    ")\n",
    "print(node_features.shape)\n",
    "n_nodes = node_features.shape[1]"
   ]
  },
  {
   "cell_type": "code",
   "execution_count": 179,
   "metadata": {},
   "outputs": [
    {
     "name": "stdout",
     "output_type": "stream",
     "text": [
      "Edge indices: (2, 45)\n",
      "Edge attributes: (45, 1)\n",
      "Edge labels: (45, 1)\n",
      "Node features: (15, 1)\n"
     ]
    }
   ],
   "source": [
    "assert (\n",
    "    len(datetime_intersect)\n",
    "    == edge_indices.shape[0]\n",
    "    == edge_attributes.shape[0]\n",
    "    == edge_labels.shape[0]\n",
    "    == node_features.shape[0]\n",
    ")\n",
    "# Print a snapshot of the shape of the graph data\n",
    "i = 256\n",
    "print(\"Edge indices:\", edge_indices[i].shape)\n",
    "print(\"Edge attributes:\", edge_attributes[i].shape)\n",
    "print(\"Edge labels:\", edge_labels[i].shape)\n",
    "print(\"Node features:\", node_features[i].shape)"
   ]
  },
  {
   "cell_type": "code",
   "execution_count": 180,
   "metadata": {},
   "outputs": [
    {
     "name": "stdout",
     "output_type": "stream",
     "text": [
      "Data(x=[15, 1], edge_index=[2, 45], edge_attr=[45, 1], y=[45, 1])\n"
     ]
    }
   ],
   "source": [
    "n_snapshots = len(datetime_intersect)\n",
    "snapshots = []\n",
    "for i in range(n_snapshots):\n",
    "    data = Data(\n",
    "        x=torch.tensor(node_features[i], dtype=torch.float),\n",
    "        edge_index=torch.tensor(edge_indices[i], dtype=torch.long),\n",
    "        edge_attr=torch.tensor(edge_attributes[i], dtype=torch.float),\n",
    "        y=torch.tensor(edge_labels[i], dtype=torch.float),\n",
    "    )\n",
    "    snapshots.append(data)\n",
    "print(snapshots[0])"
   ]
  },
  {
   "cell_type": "code",
   "execution_count": 181,
   "metadata": {},
   "outputs": [],
   "source": [
    "# https://pytorch-geometric.readthedocs.io/en/latest/generated/torch_geometric.nn.conv.GATv2Conv.html\n",
    "class GNNEncoder(nn.Module):\n",
    "    def __init__(\n",
    "        self, hidden_channels, num_heads_GAT, dropout_p_GAT, edge_dim_GAT, momentum_GAT\n",
    "    ):\n",
    "        super().__init__()\n",
    "        self.gat = GATv2Conv(\n",
    "            (-1, -1),\n",
    "            hidden_channels,\n",
    "            add_self_loops=False,\n",
    "            heads=num_heads_GAT,\n",
    "            edge_dim=edge_dim_GAT,\n",
    "        )\n",
    "        self.norm = BatchNorm1d(\n",
    "            hidden_channels,\n",
    "            momentum=momentum_GAT,\n",
    "            affine=False,\n",
    "            track_running_stats=False,\n",
    "        )\n",
    "        self.dropout = nn.Dropout(dropout_p_GAT)\n",
    "\n",
    "    def forward(self, x, edge_indices, edge_attrs):\n",
    "        x = self.dropout(x)\n",
    "        x = self.norm(x)\n",
    "        nodes_embedds = self.gat(x, edge_indices, edge_attrs)\n",
    "        nodes_embedds = F.leaky_relu(nodes_embedds, negative_slope=0.1)\n",
    "        return nodes_embedds"
   ]
  },
  {
   "cell_type": "code",
   "execution_count": 182,
   "metadata": {},
   "outputs": [
    {
     "name": "stdout",
     "output_type": "stream",
     "text": [
      "torch.Size([15, 16])\n"
     ]
    }
   ],
   "source": [
    "# Test GNNEncoder\n",
    "hidden_channels = 8\n",
    "num_heads_GAT = 2\n",
    "dropout_p_GAT = 0.1\n",
    "edge_dim_GAT = 1  # edge attributes\n",
    "momentum_GAT = 0.1\n",
    "encoder = GNNEncoder(\n",
    "    hidden_channels, num_heads_GAT, dropout_p_GAT, edge_dim_GAT, momentum_GAT\n",
    ")\n",
    "\n",
    "# Test forward pass\n",
    "i = 0\n",
    "x = snapshots[i].x\n",
    "edge_indices = snapshots[i].edge_index\n",
    "edge_attrs = snapshots[i].edge_attr\n",
    "\n",
    "nodes_embedds = encoder(x, edge_indices, edge_attrs)\n",
    "print(nodes_embedds.shape)\n",
    "# print(nodes_embedds)"
   ]
  },
  {
   "cell_type": "code",
   "execution_count": 183,
   "metadata": {},
   "outputs": [],
   "source": [
    "class PositionalEncoding(nn.Module):\n",
    "    def __init__(self, d_model: int, dropout: float = 0.1, max_len: int = 5000):\n",
    "        super().__init__()\n",
    "        self.dropout = nn.Dropout(p=dropout)\n",
    "\n",
    "        position = torch.arange(max_len).unsqueeze(1)\n",
    "        div_term = torch.exp(\n",
    "            torch.arange(0, d_model, 2) * (-math.log(10000.0) / d_model)\n",
    "        )\n",
    "        pe = torch.zeros(max_len, 1, d_model)\n",
    "        pe[:, 0, 0::2] = torch.sin(position * div_term)\n",
    "        pe[:, 0, 1::2] = torch.cos(position * div_term)\n",
    "        self.register_buffer(\"pe\", pe)\n",
    "\n",
    "    def forward(self, x: Tensor) -> Tensor:\n",
    "        \"\"\"\n",
    "        Arguments:\n",
    "            x: Tensor, shape ``[seq_len, batch_size, embedding_dim]``\n",
    "        \"\"\"\n",
    "        x = x + self.pe[: x.size(0)]\n",
    "        return self.dropout(x)\n",
    "\n",
    "\n",
    "class Transformer(nn.Module):\n",
    "    \"\"\"\n",
    "    Transformer-based module for creating temporal node embeddings.\n",
    "\n",
    "    Args:\n",
    "        dim_model (int): The dimension of the model's hidden states.\n",
    "        num_heads_TR (int): The number of attention heads.\n",
    "        num_encoder_layers_TR (int): The number of encoder layers.\n",
    "        num_decoder_layers_TR (int): The number of decoder layers.\n",
    "        dropout_p_TR (float): Dropout probability.\n",
    "    \"\"\"\n",
    "\n",
    "    def __init__(\n",
    "        self,\n",
    "        dim_model,\n",
    "        num_heads_TR,\n",
    "        num_encoder_layers_TR,\n",
    "        num_decoder_layers_TR,\n",
    "        dropout_p_TR,\n",
    "    ):\n",
    "        super().__init__()\n",
    "        self.pos_encoder = PositionalEncoding(dim_model)\n",
    "        self.transformer = nn.Transformer(\n",
    "            d_model=dim_model,\n",
    "            nhead=num_heads_TR,\n",
    "            num_decoder_layers=num_encoder_layers_TR,\n",
    "            num_encoder_layers=num_decoder_layers_TR,\n",
    "            dropout=dropout_p_TR,\n",
    "        )\n",
    "\n",
    "    def forward(self, src, trg):\n",
    "        \"\"\"\n",
    "        Forward pass of the Transformer module.\n",
    "        Args:\n",
    "            src (torch.Tensor): Input sequence with dimensions\n",
    "                                (seq_len, num_of_nodes, node_embedds_size).\n",
    "            trg (torch.Tensor): Last element of src, with dimensions\n",
    "                                (1, num_of_nodes, node_embedds_size).\n",
    "        Returns:\n",
    "            torch.Tensor: Temporal node embeddings for the month\n",
    "                          under prediciton.\n",
    "        \"\"\"\n",
    "        src = self.pos_encoder(src)\n",
    "        trg = self.pos_encoder(trg)\n",
    "        temporal_node_embeddings = self.transformer(src, trg)\n",
    "        return temporal_node_embeddings"
   ]
  },
  {
   "cell_type": "code",
   "execution_count": 184,
   "metadata": {},
   "outputs": [
    {
     "name": "stdout",
     "output_type": "stream",
     "text": [
      "torch.Size([24, 15, 16])\n",
      "torch.Size([1, 15, 16])\n",
      "torch.Size([15, 16])\n"
     ]
    },
    {
     "name": "stderr",
     "output_type": "stream",
     "text": [
      "c:\\Users\\lemuelkl\\anaconda3\\envs\\euics\\Lib\\site-packages\\torch\\nn\\modules\\transformer.py:282: UserWarning: enable_nested_tensor is True, but self.use_nested_tensor is False because encoder_layer.self_attn.batch_first was not True(use batch_first for better inference performance)\n",
      "  warnings.warn(f\"enable_nested_tensor is True, but self.use_nested_tensor is False because {why_not_sparsity_fast_path}\")\n"
     ]
    }
   ],
   "source": [
    "# Test Transformer\n",
    "num_heads_TR = 2\n",
    "num_encoder_layers_TR = 2\n",
    "num_decoder_layers_TR = 2\n",
    "dropout_p_TR = 0.1\n",
    "transformer = Transformer(\n",
    "    hidden_channels * num_heads_GAT,\n",
    "    num_heads_TR,\n",
    "    num_encoder_layers_TR,\n",
    "    num_decoder_layers_TR,\n",
    "    dropout_p_TR,\n",
    ")\n",
    "\n",
    "# Test forward pass\n",
    "seq_len = 24\n",
    "src_embedds = []\n",
    "for i in range(seq_len):\n",
    "    snapshot = snapshots[i]\n",
    "    src_embedds.append(encoder(snapshot.x, snapshot.edge_index, snapshot.edge_attr))\n",
    "src_embedds = torch.stack(src_embedds)\n",
    "trg_embedds = src_embedds[-1].unsqueeze(0)\n",
    "print(src_embedds.shape)\n",
    "print(trg_embedds.shape)\n",
    "\n",
    "temporal_node_embedds = transformer(src_embedds, trg_embedds)\n",
    "temporal_node_embedds = temporal_node_embedds.squeeze(0)\n",
    "print(temporal_node_embedds.shape)"
   ]
  },
  {
   "cell_type": "code",
   "execution_count": 185,
   "metadata": {},
   "outputs": [],
   "source": [
    "class EdgeDecoder(nn.Module):\n",
    "    def __init__(self, hidden_channels, num_heads_GAT, num_edges, num_nodes):\n",
    "        super().__init__()\n",
    "        self.lin1 = nn.Linear(\n",
    "            num_nodes * hidden_channels * num_heads_GAT, hidden_channels\n",
    "        )\n",
    "        self.lin2 = nn.Linear(hidden_channels, num_edges)\n",
    "\n",
    "    def forward(self, x):\n",
    "        # Flatten the tensor\n",
    "        x = torch.flatten(x)\n",
    "        x = self.lin1(x)\n",
    "        x = F.leaky_relu(x, negative_slope=0.1)\n",
    "        x = self.lin2(x)\n",
    "        return x.view(-1)"
   ]
  },
  {
   "cell_type": "code",
   "execution_count": 186,
   "metadata": {},
   "outputs": [
    {
     "name": "stdout",
     "output_type": "stream",
     "text": [
      "8 2 45\n",
      "torch.Size([45])\n"
     ]
    }
   ],
   "source": [
    "# Test EdgeDecoder\n",
    "print(hidden_channels, num_heads_GAT, n_edges)\n",
    "decoder = EdgeDecoder(hidden_channels, num_heads_GAT, n_edges, n_nodes)\n",
    "\n",
    "# Test forward pass\n",
    "edge_predictions = decoder(temporal_node_embedds)\n",
    "print(edge_predictions.shape)"
   ]
  },
  {
   "cell_type": "code",
   "execution_count": 187,
   "metadata": {},
   "outputs": [],
   "source": [
    "class Model(nn.Module):\n",
    "    def __init__(\n",
    "        self,\n",
    "        hidden_channels,\n",
    "        num_heads_GAT,\n",
    "        dropout_p_GAT,\n",
    "        edge_dim_GAT,\n",
    "        momentum_GAT,\n",
    "        dim_model,\n",
    "        num_heads_TR,\n",
    "        num_encoder_layers_TR,\n",
    "        num_decoder_layers_TR,\n",
    "        dropout_p_TR,\n",
    "        num_edges,\n",
    "    ):\n",
    "        super().__init__()\n",
    "        self.encoder = GNNEncoder(\n",
    "            hidden_channels, num_heads_GAT, dropout_p_GAT, edge_dim_GAT, momentum_GAT\n",
    "        )\n",
    "        self.transformer = Transformer(\n",
    "            dim_model,\n",
    "            num_heads_TR,\n",
    "            num_encoder_layers_TR,\n",
    "            num_decoder_layers_TR,\n",
    "            dropout_p_TR,\n",
    "        )\n",
    "        self.decoder = EdgeDecoder(hidden_channels, num_heads_GAT, num_edges, n_nodes)\n",
    "\n",
    "    def forward(self, x, edge_indices, edge_attrs):\n",
    "        assert not torch.isnan(x).any()\n",
    "        assert not torch.isnan(edge_indices).any()\n",
    "        assert not torch.isnan(edge_attrs).any()\n",
    "        src_embedds = []\n",
    "        for i in range(x.shape[0]):\n",
    "            src_embedds.append(self.encoder(x[i], edge_indices[i], edge_attrs[i]))\n",
    "        src_embedds = torch.stack(src_embedds)\n",
    "        trg_embedds = src_embedds[-1].unsqueeze(0)\n",
    "        assert not torch.isnan(src_embedds).any()\n",
    "        assert not torch.isnan(trg_embedds).any()\n",
    "        temporal_node_embedds = self.transformer(src_embedds, trg_embedds)\n",
    "        temporal_node_embedds = temporal_node_embedds.squeeze(0)\n",
    "        assert not torch.isnan(temporal_node_embedds).any()\n",
    "        edge_predictions = self.decoder(temporal_node_embedds)\n",
    "        assert not torch.isnan(edge_predictions).any()\n",
    "        return edge_predictions"
   ]
  },
  {
   "cell_type": "code",
   "execution_count": 188,
   "metadata": {},
   "outputs": [],
   "source": [
    "device = torch.device(\"cuda\" if torch.cuda.is_available() else \"cpu\")\n",
    "model = Model(\n",
    "    hidden_channels,\n",
    "    num_heads_GAT,\n",
    "    dropout_p_GAT,\n",
    "    edge_dim_GAT,\n",
    "    momentum_GAT,\n",
    "    hidden_channels * num_heads_GAT,\n",
    "    num_heads_TR,\n",
    "    num_encoder_layers_TR,\n",
    "    num_decoder_layers_TR,\n",
    "    dropout_p_TR,\n",
    "    n_edges,\n",
    ")\n",
    "model = model.to(device)"
   ]
  },
  {
   "cell_type": "code",
   "execution_count": 189,
   "metadata": {},
   "outputs": [
    {
     "name": "stderr",
     "output_type": "stream",
     "text": [
      "  2%|▏         | 81/5112 [00:03<03:20, 25.15it/s]"
     ]
    },
    {
     "name": "stdout",
     "output_type": "stream",
     "text": [
      "Epoch 1, Loss: 1.3752803802490234\n"
     ]
    },
    {
     "name": "stderr",
     "output_type": "stream",
     "text": [
      "  4%|▎         | 180/5112 [00:06<03:07, 26.33it/s]"
     ]
    },
    {
     "name": "stdout",
     "output_type": "stream",
     "text": [
      "Epoch 1, Loss: 0.7689051628112793\n"
     ]
    },
    {
     "name": "stderr",
     "output_type": "stream",
     "text": [
      "  6%|▌         | 282/5112 [00:10<03:01, 26.55it/s]"
     ]
    },
    {
     "name": "stdout",
     "output_type": "stream",
     "text": [
      "Epoch 1, Loss: 1.8820407390594482\n"
     ]
    },
    {
     "name": "stderr",
     "output_type": "stream",
     "text": [
      "  7%|▋         | 381/5112 [00:14<03:00, 26.15it/s]"
     ]
    },
    {
     "name": "stdout",
     "output_type": "stream",
     "text": [
      "Epoch 1, Loss: 0.5108917355537415\n"
     ]
    },
    {
     "name": "stderr",
     "output_type": "stream",
     "text": [
      "  9%|▉         | 480/5112 [00:18<03:05, 25.04it/s]"
     ]
    },
    {
     "name": "stdout",
     "output_type": "stream",
     "text": [
      "Epoch 1, Loss: 0.9581643342971802\n"
     ]
    },
    {
     "name": "stderr",
     "output_type": "stream",
     "text": [
      " 11%|█▏        | 579/5112 [00:22<03:01, 24.91it/s]"
     ]
    },
    {
     "name": "stdout",
     "output_type": "stream",
     "text": [
      "Epoch 1, Loss: 1.3619123697280884\n"
     ]
    },
    {
     "name": "stderr",
     "output_type": "stream",
     "text": [
      " 13%|█▎        | 681/5112 [00:26<02:49, 26.07it/s]"
     ]
    },
    {
     "name": "stdout",
     "output_type": "stream",
     "text": [
      "Epoch 1, Loss: 1.094367504119873\n"
     ]
    },
    {
     "name": "stderr",
     "output_type": "stream",
     "text": [
      " 15%|█▌        | 780/5112 [00:30<02:44, 26.30it/s]"
     ]
    },
    {
     "name": "stdout",
     "output_type": "stream",
     "text": [
      "Epoch 1, Loss: 0.6866652965545654\n"
     ]
    },
    {
     "name": "stderr",
     "output_type": "stream",
     "text": [
      " 17%|█▋        | 882/5112 [00:34<02:40, 26.36it/s]"
     ]
    },
    {
     "name": "stdout",
     "output_type": "stream",
     "text": [
      "Epoch 1, Loss: 0.7606217265129089\n"
     ]
    },
    {
     "name": "stderr",
     "output_type": "stream",
     "text": [
      " 19%|█▉        | 981/5112 [00:38<02:35, 26.49it/s]"
     ]
    },
    {
     "name": "stdout",
     "output_type": "stream",
     "text": [
      "Epoch 1, Loss: 0.5438957214355469\n"
     ]
    },
    {
     "name": "stderr",
     "output_type": "stream",
     "text": [
      " 21%|██        | 1080/5112 [00:41<02:33, 26.34it/s]"
     ]
    },
    {
     "name": "stdout",
     "output_type": "stream",
     "text": [
      "Epoch 1, Loss: 0.7320118546485901\n"
     ]
    },
    {
     "name": "stderr",
     "output_type": "stream",
     "text": [
      " 23%|██▎       | 1179/5112 [00:45<03:00, 21.75it/s]"
     ]
    },
    {
     "name": "stdout",
     "output_type": "stream",
     "text": [
      "Epoch 1, Loss: 1.1642992496490479\n"
     ]
    },
    {
     "name": "stderr",
     "output_type": "stream",
     "text": [
      " 25%|██▌       | 1281/5112 [00:49<02:28, 25.77it/s]"
     ]
    },
    {
     "name": "stdout",
     "output_type": "stream",
     "text": [
      "Epoch 1, Loss: 0.7383466362953186\n"
     ]
    },
    {
     "name": "stderr",
     "output_type": "stream",
     "text": [
      " 27%|██▋       | 1380/5112 [00:53<02:24, 25.90it/s]"
     ]
    },
    {
     "name": "stdout",
     "output_type": "stream",
     "text": [
      "Epoch 1, Loss: 3.231276512145996\n"
     ]
    },
    {
     "name": "stderr",
     "output_type": "stream",
     "text": [
      " 29%|██▉       | 1479/5112 [00:57<02:22, 25.57it/s]"
     ]
    },
    {
     "name": "stdout",
     "output_type": "stream",
     "text": [
      "Epoch 1, Loss: 0.6194199323654175\n"
     ]
    },
    {
     "name": "stderr",
     "output_type": "stream",
     "text": [
      " 31%|███       | 1581/5112 [01:01<02:15, 26.08it/s]"
     ]
    },
    {
     "name": "stdout",
     "output_type": "stream",
     "text": [
      "Epoch 1, Loss: 0.8130446076393127\n"
     ]
    },
    {
     "name": "stderr",
     "output_type": "stream",
     "text": [
      " 33%|███▎      | 1680/5112 [01:05<02:10, 26.23it/s]"
     ]
    },
    {
     "name": "stdout",
     "output_type": "stream",
     "text": [
      "Epoch 1, Loss: 0.8227341771125793\n"
     ]
    },
    {
     "name": "stderr",
     "output_type": "stream",
     "text": [
      " 35%|███▍      | 1782/5112 [01:09<02:08, 25.95it/s]"
     ]
    },
    {
     "name": "stdout",
     "output_type": "stream",
     "text": [
      "Epoch 1, Loss: 0.5889604687690735\n"
     ]
    },
    {
     "name": "stderr",
     "output_type": "stream",
     "text": [
      " 37%|███▋      | 1881/5112 [01:13<02:03, 26.14it/s]"
     ]
    },
    {
     "name": "stdout",
     "output_type": "stream",
     "text": [
      "Epoch 1, Loss: 0.4130443334579468\n"
     ]
    },
    {
     "name": "stderr",
     "output_type": "stream",
     "text": [
      " 39%|███▊      | 1980/5112 [01:17<02:01, 25.77it/s]"
     ]
    },
    {
     "name": "stdout",
     "output_type": "stream",
     "text": [
      "Epoch 1, Loss: 0.7046413421630859\n"
     ]
    },
    {
     "name": "stderr",
     "output_type": "stream",
     "text": [
      " 41%|████      | 2079/5112 [01:21<02:00, 25.20it/s]"
     ]
    },
    {
     "name": "stdout",
     "output_type": "stream",
     "text": [
      "Epoch 1, Loss: 1.2222644090652466\n"
     ]
    },
    {
     "name": "stderr",
     "output_type": "stream",
     "text": [
      " 43%|████▎     | 2181/5112 [01:25<02:07, 23.00it/s]"
     ]
    },
    {
     "name": "stdout",
     "output_type": "stream",
     "text": [
      "Epoch 1, Loss: 0.6177586913108826\n"
     ]
    },
    {
     "name": "stderr",
     "output_type": "stream",
     "text": [
      " 45%|████▍     | 2280/5112 [01:29<01:53, 24.95it/s]"
     ]
    },
    {
     "name": "stdout",
     "output_type": "stream",
     "text": [
      "Epoch 1, Loss: 1.0794522762298584\n"
     ]
    },
    {
     "name": "stderr",
     "output_type": "stream",
     "text": [
      " 47%|████▋     | 2379/5112 [01:33<01:51, 24.57it/s]"
     ]
    },
    {
     "name": "stdout",
     "output_type": "stream",
     "text": [
      "Epoch 1, Loss: 0.5610213279724121\n"
     ]
    },
    {
     "name": "stderr",
     "output_type": "stream",
     "text": [
      " 49%|████▊     | 2481/5112 [01:37<01:47, 24.42it/s]"
     ]
    },
    {
     "name": "stdout",
     "output_type": "stream",
     "text": [
      "Epoch 1, Loss: 1.198520541191101\n"
     ]
    },
    {
     "name": "stderr",
     "output_type": "stream",
     "text": [
      " 50%|█████     | 2580/5112 [01:41<01:35, 26.43it/s]"
     ]
    },
    {
     "name": "stdout",
     "output_type": "stream",
     "text": [
      "Epoch 1, Loss: 1.2183772325515747\n"
     ]
    },
    {
     "name": "stderr",
     "output_type": "stream",
     "text": [
      " 52%|█████▏    | 2679/5112 [01:45<01:36, 25.20it/s]"
     ]
    },
    {
     "name": "stdout",
     "output_type": "stream",
     "text": [
      "Epoch 1, Loss: 1.0585136413574219\n"
     ]
    },
    {
     "name": "stderr",
     "output_type": "stream",
     "text": [
      " 54%|█████▍    | 2781/5112 [01:49<01:31, 25.48it/s]"
     ]
    },
    {
     "name": "stdout",
     "output_type": "stream",
     "text": [
      "Epoch 1, Loss: 0.46197640895843506\n"
     ]
    },
    {
     "name": "stderr",
     "output_type": "stream",
     "text": [
      " 56%|█████▋    | 2880/5112 [01:52<01:26, 25.76it/s]"
     ]
    },
    {
     "name": "stdout",
     "output_type": "stream",
     "text": [
      "Epoch 1, Loss: 0.8589507341384888\n"
     ]
    },
    {
     "name": "stderr",
     "output_type": "stream",
     "text": [
      " 58%|█████▊    | 2982/5112 [01:56<01:20, 26.49it/s]"
     ]
    },
    {
     "name": "stdout",
     "output_type": "stream",
     "text": [
      "Epoch 1, Loss: 0.7039127349853516\n"
     ]
    },
    {
     "name": "stderr",
     "output_type": "stream",
     "text": [
      " 60%|██████    | 3081/5112 [02:00<01:16, 26.57it/s]"
     ]
    },
    {
     "name": "stdout",
     "output_type": "stream",
     "text": [
      "Epoch 1, Loss: 1.1782139539718628\n"
     ]
    },
    {
     "name": "stderr",
     "output_type": "stream",
     "text": [
      " 62%|██████▏   | 3180/5112 [02:04<01:15, 25.52it/s]"
     ]
    },
    {
     "name": "stdout",
     "output_type": "stream",
     "text": [
      "Epoch 1, Loss: 2.2140755653381348\n"
     ]
    },
    {
     "name": "stderr",
     "output_type": "stream",
     "text": [
      " 64%|██████▍   | 3282/5112 [02:08<01:09, 26.44it/s]"
     ]
    },
    {
     "name": "stdout",
     "output_type": "stream",
     "text": [
      "Epoch 1, Loss: 0.6875286102294922\n"
     ]
    },
    {
     "name": "stderr",
     "output_type": "stream",
     "text": [
      " 66%|██████▌   | 3381/5112 [02:12<01:07, 25.80it/s]"
     ]
    },
    {
     "name": "stdout",
     "output_type": "stream",
     "text": [
      "Epoch 1, Loss: 0.7092176079750061\n"
     ]
    },
    {
     "name": "stderr",
     "output_type": "stream",
     "text": [
      " 68%|██████▊   | 3480/5112 [02:15<01:05, 24.93it/s]"
     ]
    },
    {
     "name": "stdout",
     "output_type": "stream",
     "text": [
      "Epoch 1, Loss: 0.6224130392074585\n"
     ]
    },
    {
     "name": "stderr",
     "output_type": "stream",
     "text": [
      " 70%|███████   | 3582/5112 [02:19<01:01, 24.68it/s]"
     ]
    },
    {
     "name": "stdout",
     "output_type": "stream",
     "text": [
      "Epoch 1, Loss: 0.3699433207511902\n"
     ]
    },
    {
     "name": "stderr",
     "output_type": "stream",
     "text": [
      " 72%|███████▏  | 3681/5112 [02:23<00:56, 25.12it/s]"
     ]
    },
    {
     "name": "stdout",
     "output_type": "stream",
     "text": [
      "Epoch 1, Loss: 0.7525750398635864\n"
     ]
    },
    {
     "name": "stderr",
     "output_type": "stream",
     "text": [
      " 74%|███████▍  | 3780/5112 [02:27<00:50, 26.44it/s]"
     ]
    },
    {
     "name": "stdout",
     "output_type": "stream",
     "text": [
      "Epoch 1, Loss: 0.884308397769928\n"
     ]
    },
    {
     "name": "stderr",
     "output_type": "stream",
     "text": [
      " 76%|███████▌  | 3882/5112 [02:31<00:47, 25.80it/s]"
     ]
    },
    {
     "name": "stdout",
     "output_type": "stream",
     "text": [
      "Epoch 1, Loss: 1.3159030675888062\n"
     ]
    },
    {
     "name": "stderr",
     "output_type": "stream",
     "text": [
      " 78%|███████▊  | 3981/5112 [02:35<00:44, 25.37it/s]"
     ]
    },
    {
     "name": "stdout",
     "output_type": "stream",
     "text": [
      "Epoch 1, Loss: 0.8353481888771057\n"
     ]
    },
    {
     "name": "stderr",
     "output_type": "stream",
     "text": [
      " 79%|███████▊  | 4020/5112 [02:37<00:45, 23.76it/s]"
     ]
    }
   ],
   "source": [
    "n_epochs = 10\n",
    "for epoch in range(n_epochs):\n",
    "    window = 24\n",
    "    for m in tqdm(range(window, len(snapshots))):\n",
    "        history = snapshots[m - window : m]\n",
    "        y = snapshots[m].y.view(-1)\n",
    "\n",
    "        optimizer = torch.optim.Adam(model.parameters(), lr=0.00005)\n",
    "        optimizer.zero_grad()\n",
    "\n",
    "        x = [data.x for data in history]\n",
    "        edge_indices = [data.edge_index for data in history]\n",
    "        edge_attrs = [data.edge_attr for data in history]\n",
    "\n",
    "        x = torch.stack(x)\n",
    "        edge_indices = torch.stack(edge_indices)\n",
    "        edge_attrs = torch.stack(edge_attrs)\n",
    "        y = y.to(device)\n",
    "\n",
    "        x = x.to(device)\n",
    "        edge_indices = edge_indices.to(device)\n",
    "        edge_attrs = edge_attrs.to(device)\n",
    "\n",
    "        edge_predictions = model(x, edge_indices, edge_attrs)\n",
    "\n",
    "        loss = F.mse_loss(edge_predictions, y)\n",
    "        loss.backward()\n",
    "        optimizer.step()\n",
    "\n",
    "        if m % 100 == 0:\n",
    "            print(f\"Epoch {epoch + 1}, Loss: {loss.item()}\")"
   ]
  }
 ],
 "metadata": {
  "kernelspec": {
   "display_name": "euics",
   "language": "python",
   "name": "python3"
  },
  "language_info": {
   "codemirror_mode": {
    "name": "ipython",
    "version": 3
   },
   "file_extension": ".py",
   "mimetype": "text/x-python",
   "name": "python",
   "nbconvert_exporter": "python",
   "pygments_lexer": "ipython3",
   "version": "3.11.5"
  }
 },
 "nbformat": 4,
 "nbformat_minor": 2
}
