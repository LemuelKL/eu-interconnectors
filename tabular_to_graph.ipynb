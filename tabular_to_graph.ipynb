{
 "cells": [
  {
   "cell_type": "markdown",
   "metadata": {},
   "source": [
    "This notebook converts tabular data to graph data for pytorch geometric to ingest.\n",
    "\n",
    "The final graph is a static homogeneous directed graph with temporal signals.\n"
   ]
  },
  {
   "cell_type": "code",
   "execution_count": 1,
   "metadata": {},
   "outputs": [],
   "source": [
    "import pandas as pd\n",
    "import numpy as np"
   ]
  },
  {
   "cell_type": "code",
   "execution_count": 2,
   "metadata": {},
   "outputs": [],
   "source": [
    "flow_df = pd.read_csv(\"data/flow/_combined.csv\")\n",
    "dap_df = pd.read_csv(\"data/dap/_combined.csv\")\n",
    "\n",
    "intersect_datetime = np.intersect1d(flow_df[\"datetime\"], dap_df[\"datetime\"])\n",
    "flow_df = flow_df[flow_df[\"datetime\"].isin(intersect_datetime)]\n",
    "dap_df = dap_df[dap_df[\"datetime\"].isin(intersect_datetime)]\n",
    "dap_df = dap_df.reindex(sorted(dap_df.columns), axis=1)"
   ]
  },
  {
   "cell_type": "code",
   "execution_count": 3,
   "metadata": {},
   "outputs": [
    {
     "name": "stdout",
     "output_type": "stream",
     "text": [
      "(2, 58)\n",
      "[['BE' 'BE' 'BE' 'BE' 'BE' 'DE' 'DE' 'DE' 'DE' 'DE']\n",
      " ['DE' 'FR' 'LU' 'NL' 'UK' 'BE' 'DK' 'AT' 'CH' 'CZ']]\n"
     ]
    }
   ],
   "source": [
    "# Static edges of shape (2, n_edges)\n",
    "interconnectors = flow_df.columns[1:]\n",
    "exporters = []\n",
    "importers = []\n",
    "for ic in interconnectors:\n",
    "    exporter, importer = ic.split(\"->\")\n",
    "    exporters.append(exporter)\n",
    "    importers.append(importer)\n",
    "\n",
    "exporters = np.array(exporters)\n",
    "importers = np.array(importers)\n",
    "\n",
    "edges = np.vstack([exporters, importers])\n",
    "print(edges.shape)\n",
    "print(edges[:, :10])"
   ]
  },
  {
   "cell_type": "code",
   "execution_count": 4,
   "metadata": {},
   "outputs": [
    {
     "name": "stdout",
     "output_type": "stream",
     "text": [
      "(2, 58)\n",
      "[[ 1  1  1  1  1  4  4  4  4  4]\n",
      " [ 4  8 11 12 16  1  5  0  2  3]]\n",
      "{'AT': 0, 'BE': 1, 'CH': 2, 'CZ': 3, 'DE': 4, 'DK': 5, 'ES': 6, 'FI': 7, 'FR': 8, 'IE': 9, 'IT': 10, 'LU': 11, 'NL': 12, 'NO': 13, 'PL': 14, 'SE': 15, 'UK': 16}\n"
     ]
    }
   ],
   "source": [
    "# Map edge names to indices\n",
    "edge_names = np.unique(edges)\n",
    "edge_map = {edge: i for i, edge in enumerate(edge_names)}\n",
    "edge_indices = np.array([edge_map[edge] for edge in edges.flatten()]).reshape(\n",
    "    edges.shape\n",
    ")\n",
    "print(edge_indices.shape)\n",
    "print(edge_indices[:, :10])\n",
    "print(edge_map)"
   ]
  },
  {
   "cell_type": "code",
   "execution_count": 5,
   "metadata": {},
   "outputs": [
    {
     "name": "stdout",
     "output_type": "stream",
     "text": [
      "(5136, 58, 1)\n"
     ]
    }
   ],
   "source": [
    "# Edge features\n",
    "edge_features = np.array(flow_df[interconnectors])\n",
    "edge_features = np.reshape(edge_features, (edge_features.shape[0], edge_features.shape[1], 1))\n",
    "print(edge_features.shape)"
   ]
  },
  {
   "cell_type": "code",
   "execution_count": 6,
   "metadata": {},
   "outputs": [
    {
     "name": "stdout",
     "output_type": "stream",
     "text": [
      "(5136, 17, 1)\n"
     ]
    }
   ],
   "source": [
    "# Node features\n",
    "node_features = dap_df.drop(columns=[\"datetime\"])\n",
    "node_names = node_features.index\n",
    "node_features = node_features.values\n",
    "node_features = node_features\n",
    "node_features = np.reshape(node_features, (node_features.shape[0], node_features.shape[1], 1))\n",
    "print(node_features.shape)"
   ]
  },
  {
   "cell_type": "code",
   "execution_count": 7,
   "metadata": {},
   "outputs": [
    {
     "name": "stdout",
     "output_type": "stream",
     "text": [
      "(5112, 58, 1)\n"
     ]
    }
   ],
   "source": [
    "# Labels are sliding window of flow data\n",
    "n_timesteps = 24\n",
    "labels = edge_features[n_timesteps:]\n",
    "print(labels.shape)"
   ]
  },
  {
   "cell_type": "code",
   "execution_count": 8,
   "metadata": {},
   "outputs": [
    {
     "name": "stdout",
     "output_type": "stream",
     "text": [
      "(5112, 58, 1)\n",
      "(5112, 17, 1)\n"
     ]
    }
   ],
   "source": [
    "# Remove last n_timesteps from edge_features and node_features\n",
    "edge_features = edge_features[:-n_timesteps]\n",
    "node_features = node_features[:-n_timesteps]\n",
    "print(edge_features.shape)\n",
    "print(node_features.shape)"
   ]
  },
  {
   "cell_type": "code",
   "execution_count": 9,
   "metadata": {},
   "outputs": [
    {
     "name": "stdout",
     "output_type": "stream",
     "text": [
      "(5112, 2, 58)\n"
     ]
    }
   ],
   "source": [
    "# Finally repeat the edge indices to match the number of timesteps (because edges are static)\n",
    "edge_indices = np.repeat(edge_indices[np.newaxis, :, :], edge_features.shape[0], axis=0)\n",
    "print(edge_indices.shape)"
   ]
  },
  {
   "cell_type": "code",
   "execution_count": 10,
   "metadata": {},
   "outputs": [
    {
     "name": "stdout",
     "output_type": "stream",
     "text": [
      "Edge indices: (2, 58)\n",
      "Edge features: (58, 1)\n",
      "Node features: (17, 1)\n",
      "Labels: (58, 1)\n"
     ]
    }
   ],
   "source": [
    "assert edge_indices.shape[0] == edge_features.shape[0] == node_features.shape[0] == labels.shape[0]\n",
    "# Print a snapshot of the shape of the graph data\n",
    "i = 256\n",
    "print(\"Edge indices:\", edge_indices[i].shape)\n",
    "print(\"Edge features:\", edge_features[i].shape)\n",
    "print(\"Node features:\", node_features[i].shape)\n",
    "print(\"Labels:\", labels[i].shape)"
   ]
  },
  {
   "cell_type": "code",
   "execution_count": 11,
   "metadata": {},
   "outputs": [
    {
     "name": "stdout",
     "output_type": "stream",
     "text": [
      "<torch_geometric_temporal.signal.dynamic_graph_temporal_signal.DynamicGraphTemporalSignal object at 0x0000021074C19150>\n"
     ]
    }
   ],
   "source": [
    "from torch_geometric_temporal.signal import DynamicGraphTemporalSignal\n",
    "\n",
    "dataset = DynamicGraphTemporalSignal(edge_indices, edge_features, node_features, labels)\n",
    "print(dataset)"
   ]
  }
 ],
 "metadata": {
  "kernelspec": {
   "display_name": "euics",
   "language": "python",
   "name": "python3"
  },
  "language_info": {
   "codemirror_mode": {
    "name": "ipython",
    "version": 3
   },
   "file_extension": ".py",
   "mimetype": "text/x-python",
   "name": "python",
   "nbconvert_exporter": "python",
   "pygments_lexer": "ipython3",
   "version": "3.11.5"
  }
 },
 "nbformat": 4,
 "nbformat_minor": 2
}
